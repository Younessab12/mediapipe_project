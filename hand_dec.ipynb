{
 "cells": [
  {
   "cell_type": "code",
   "execution_count": null,
   "metadata": {},
   "outputs": [],
   "source": [
    "import mediapipe as mp\n",
    "import cv2\n",
    "import numpy as np\n",
    "import os\n",
    "import time\n",
    "import uuid"
   ]
  },
  {
   "cell_type": "code",
   "execution_count": null,
   "metadata": {},
   "outputs": [],
   "source": [
    "mp_drawing = mp.solutions.drawing_utils\n",
    "mp_hands = mp.solutions.hands\n"
   ]
  },
  {
   "cell_type": "markdown",
   "metadata": {},
   "source": [
    "<img src=\"https://i.imgur.com/qpRACer.png \"/>"
   ]
  },
  {
   "cell_type": "code",
   "execution_count": null,
   "metadata": {},
   "outputs": [],
   "source": [
    "cap = cv2.VideoCapture(0)\n",
    "\n",
    "with mp_hands.Hands(min_detection_confidence=0.8, min_tracking_confidence=0.5) as hands:\n",
    "    while cap.isOpened():\n",
    "        ret, frame = cap.read()\n",
    "        img = cv2.cvtColor(frame, cv2.COLOR_BGR2RGB)\n",
    "        img = cv2.flip(img, 1)\n",
    "        img.flags.writeable = False\n",
    "        res = hands.process(img)\n",
    "        img.flags.writeable = True\n",
    "        img = cv2.cvtColor(img, cv2.COLOR_RGB2BGR)\n",
    "\n",
    "        if res.multi_hand_landmarks:\n",
    "            for num , hand in enumerate(res.multi_hand_landmarks):\n",
    "                mp_drawing.draw_landmarks(img, hand, mp_hands.HAND_CONNECTIONS)\n",
    "            for hand in res.multi_hand_landmarks:\n",
    "                coord = str(round(hand.landmark[8].x*640,2))+\",\"+str(round(hand.landmark[8].y*480,2))\n",
    "        \n",
    "                cv2.putText(img, coord, tuple(np.multiply(np.array([hand.landmark[8].x,hand.landmark[8].y]), [640,480]).astype(int)), cv2.FONT_HERSHEY_SIMPLEX, 1, (121, 93, 60), 1, cv2.LINE_AA)\n",
    "\n",
    "\n",
    "        cv2.imshow(\"Hand Tracking\", img)\n",
    "        \n",
    "        if cv2.waitKey(10) & 0xFF == ord('q'):\n",
    "            break\n",
    "cap.release()\n",
    "cv2.destroyAllWindows()"
   ]
  },
  {
   "cell_type": "code",
   "execution_count": null,
   "metadata": {},
   "outputs": [],
   "source": [
    "for idx,classification in enumerate(res.multi_handedness):\n",
    "    print(classification.classification[0].index)"
   ]
  },
  {
   "cell_type": "code",
   "execution_count": null,
   "metadata": {},
   "outputs": [],
   "source": [
    "len(res.multi_handedness)"
   ]
  },
  {
   "cell_type": "code",
   "execution_count": null,
   "metadata": {},
   "outputs": [],
   "source": [
    "# def get_label(index,hand,res):\n",
    "#     output = None\n",
    "#     if len(res.multi_handedness)==1:\n",
    "#         label = res.multi_handedness[0].classification[0].label\n",
    "#         score = res.multi_handedness[0].classification[0].score\n",
    "#         text = '{} {}'.format(label,round(score,2))\n",
    "\n",
    "#         coords = tuple(np.multiply(\n",
    "#             np.array((hand.landmark[mp_hands.HandLandmark.WRIST].x,hand.landmark[mp_hands.HandLandmark.WRIST].y)),\n",
    "#             [640,480]).astype(int))\n",
    "#         output = text, coords\n",
    "#         print(label,coords)\n",
    "#         return output\n",
    "#     elif len(res.multi_handedness)>1:\n",
    "#         for idx, classification in enumerate(res.multi_handedness):\n",
    "#             if classification.classification[0].index == index:\n",
    "#                 label = classification.classification[0].label\n",
    "#                 score = classification.classification[0].score\n",
    "#                 text = '{} {}'.format(label,round(score,2))\n",
    "#                 coords = tuple(np.multiply(\n",
    "#                     np.array((hand.landmark[mp_hands.HandLandmark.WRIST].x,hand.landmark[mp_hands.HandLandmark.WRIST].y)),\n",
    "#                     [640,480]).astype(int))\n",
    "#                 print(label,coords)\n",
    "#                 output = text, coords\n",
    "#         return output\n",
    "#     return output\n",
    "              "
   ]
  },
  {
   "cell_type": "code",
   "execution_count": null,
   "metadata": {},
   "outputs": [],
   "source": [
    "def get_label(index, hand, results):\n",
    "    output = None\n",
    "\n",
    "    if index == 0:\n",
    "        label = results.multi_handedness[0].classification[0].label\n",
    "        score = results.multi_handedness[0].classification[0].score\n",
    "        coords = tuple(np.multiply(\n",
    "                        np.array((hand.landmark[mp_hands.HandLandmark.WRIST].x, hand.landmark[mp_hands.HandLandmark.WRIST].y)),\n",
    "                        [640,480]).astype(int))\n",
    "\n",
    "        output = '{}{}'.format(label,round(score,2)), coords\n",
    "        return output\n",
    "    \n",
    "    if index == 1:\n",
    "        label = results.multi_handedness[1].classification[0].label\n",
    "        coords = tuple(np.multiply(\n",
    "                        np.array((hand.landmark[mp_hands.HandLandmark.WRIST].x, hand.landmark[mp_hands.HandLandmark.WRIST].y)),\n",
    "                        [640,480]).astype(int))\n",
    "        score = results.multi_handedness[1].classification[0].score\n",
    "        \n",
    "\n",
    "        output = '{}{}'.format(label,round(score,2)), coords\n",
    "        return output"
   ]
  },
  {
   "cell_type": "code",
   "execution_count": null,
   "metadata": {},
   "outputs": [],
   "source": [
    "\n",
    "# get_label(0,hand,res)"
   ]
  },
  {
   "cell_type": "code",
   "execution_count": null,
   "metadata": {},
   "outputs": [],
   "source": [
    "cap = cv2.VideoCapture(0)\n",
    "\n",
    "with mp_hands.Hands(min_detection_confidence=0.8, min_tracking_confidence=0.5) as hands:\n",
    "    while cap.isOpened():\n",
    "        ret, frame = cap.read()\n",
    "        img = cv2.cvtColor(frame, cv2.COLOR_BGR2RGB)\n",
    "        img = cv2.flip(img, 1)\n",
    "        img.flags.writeable = False\n",
    "        res = hands.process(img)\n",
    "        img.flags.writeable = True\n",
    "        img = cv2.cvtColor(img, cv2.COLOR_RGB2BGR)\n",
    "\n",
    "        if res.multi_hand_landmarks:\n",
    "            for num , hand in enumerate(res.multi_hand_landmarks):\n",
    "                mp_drawing.draw_landmarks(img, hand, mp_hands.HAND_CONNECTIONS)\n",
    "\n",
    "                \n",
    "                \n",
    "                if get_label(num,hand,res):\n",
    "                    text, coords = get_label(num,hand,res)\n",
    "                    cv2.putText(img, text, coords, cv2.FONT_HERSHEY_SIMPLEX, 1, (121, 93, 60), 1, cv2.LINE_AA)\n",
    "\n",
    "\n",
    "\n",
    "\n",
    "        cv2.imshow(\"Hand Tracking\", img)\n",
    "        \n",
    "        if cv2.waitKey(10) & 0xFF == ord('q'):\n",
    "            break\n",
    "\n",
    "        \n",
    "cap.release()\n",
    "cv2.destroyAllWindows()"
   ]
  },
  {
   "cell_type": "code",
   "execution_count": null,
   "metadata": {},
   "outputs": [],
   "source": [
    "\n",
    "import matplotlib.pyplot as plt"
   ]
  },
  {
   "cell_type": "code",
   "execution_count": null,
   "metadata": {},
   "outputs": [],
   "source": [
    "top_joint_list = [[4,3,2],[8,7,6],[12,11,10],[16,15,14],[20,19,18]]\n",
    "bottom_joint_list = [[2,1,0],[6,5,0],[10,9,0],[14,13,0],[18,17,0]]"
   ]
  },
  {
   "cell_type": "code",
   "execution_count": null,
   "metadata": {},
   "outputs": [],
   "source": [
    "def draw_finger_angles(img,res,joint_list,color):\n",
    "    angle_list = []\n",
    "    if res.multi_hand_landmarks:\n",
    "        for hand in res.multi_hand_landmarks:\n",
    "            for joint in joint_list:\n",
    "                coord1 = np.array([hand.landmark[joint[0]].x, hand.landmark[joint[0]].y])\n",
    "                coord2 = np.array([hand.landmark[joint[1]].x, hand.landmark[joint[1]].y])\n",
    "                coord3 = np.array([hand.landmark[joint[2]].x, hand.landmark[joint[2]].y])\n",
    "                radians = np.arctan2(coord3[1] - coord2[1], coord3[0] - coord2[0]) - np.arctan2(coord1[1] - coord2[1], coord1[0] - coord2[0])\n",
    "                angle = np.abs(radians*180.0/np.pi)\n",
    "                # if angle > 180.0:\n",
    "                #     angle = 360-angle\n",
    "                angle_list.append(angle)\n",
    "                cv2.putText(img, str(round(angle,2)), tuple(np.multiply(coord2, [640,480]).astype(int)), cv2.FONT_HERSHEY_SIMPLEX, 0.5, color, 1, cv2.LINE_AA)\n",
    "    return img,angle_list"
   ]
  },
  {
   "cell_type": "code",
   "execution_count": null,
   "metadata": {},
   "outputs": [],
   "source": [
    "import matplotlib.pyplot as plt\n",
    "plt.imshow(cv2.cvtColor(img,cv2.COLOR_BGR2RGB))"
   ]
  },
  {
   "cell_type": "code",
   "execution_count": null,
   "metadata": {},
   "outputs": [],
   "source": [
    "img,angle_list=draw_finger_angles(img,res,top_joint_list,(0,0,0))\n",
    "print(angle_list)"
   ]
  },
  {
   "cell_type": "code",
   "execution_count": null,
   "metadata": {},
   "outputs": [],
   "source": [
    "plt.imshow(cv2.cvtColor(img,cv2.COLOR_BGR2RGB))"
   ]
  },
  {
   "cell_type": "code",
   "execution_count": null,
   "metadata": {},
   "outputs": [],
   "source": [
    "len(res.multi_hand_landmarks)"
   ]
  },
  {
   "cell_type": "code",
   "execution_count": null,
   "metadata": {},
   "outputs": [],
   "source": [
    "print(angle_list)"
   ]
  },
  {
   "cell_type": "code",
   "execution_count": null,
   "metadata": {},
   "outputs": [],
   "source": [
    "img,bottom_angle_list=draw_finger_angles(img,res,bottom_joint_list,(255,255,255))"
   ]
  },
  {
   "cell_type": "code",
   "execution_count": null,
   "metadata": {},
   "outputs": [],
   "source": [
    "plt.imshow(cv2.cvtColor(img,cv2.COLOR_BGR2RGB))"
   ]
  },
  {
   "cell_type": "code",
   "execution_count": null,
   "metadata": {},
   "outputs": [],
   "source": [
    "print(bottom_angle_list)"
   ]
  },
  {
   "cell_type": "code",
   "execution_count": null,
   "metadata": {},
   "outputs": [],
   "source": [
    "top_angles=[]\n",
    "bottom_angles=[]"
   ]
  },
  {
   "cell_type": "code",
   "execution_count": null,
   "metadata": {},
   "outputs": [],
   "source": [
    "cap = cv2.VideoCapture(0)\n",
    "\n",
    "with mp_hands.Hands(min_detection_confidence=0.8, min_tracking_confidence=0.5) as hands:\n",
    "    while cap.isOpened():\n",
    "        ret, frame = cap.read()\n",
    "        img = cv2.cvtColor(frame, cv2.COLOR_BGR2RGB)\n",
    "        img = cv2.flip(img, 1)\n",
    "        img.flags.writeable = False\n",
    "        res = hands.process(img)\n",
    "        img.flags.writeable = True\n",
    "        img = cv2.cvtColor(img, cv2.COLOR_RGB2BGR)\n",
    "\n",
    "        if res.multi_hand_landmarks:\n",
    "            for num , hand in enumerate(res.multi_hand_landmarks):\n",
    "                mp_drawing.draw_landmarks(img, hand, mp_hands.HAND_CONNECTIONS)\n",
    "\n",
    "                \n",
    "                \n",
    "                if get_label(num,hand,res):\n",
    "                    text, coords = get_label(num,hand,res)\n",
    "                    cv2.putText(img, text, coords, cv2.FONT_HERSHEY_SIMPLEX, 1, (121, 93, 60), 1, cv2.LINE_AA)\n",
    "\n",
    "\n",
    "            img,top_angle_list = draw_finger_angles(img,res,bottom_joint_list,(0,0,0))\n",
    "            img,bottom_angle_list = draw_finger_angles(img,res,top_joint_list,(255,255,255))\n",
    "            top_angles.append(top_angle_list)\n",
    "            bottom_angles.append(bottom_angle_list)\n",
    "\n",
    "        cv2.imshow(\"Hand Tracking\", img)\n",
    "        \n",
    "        if cv2.waitKey(10) & 0xFF == ord('q'):\n",
    "            break\n",
    "\n",
    "        \n",
    "cap.release()\n",
    "cv2.destroyAllWindows()"
   ]
  },
  {
   "cell_type": "code",
   "execution_count": null,
   "metadata": {},
   "outputs": [],
   "source": [
    "print(top_angle_list)"
   ]
  },
  {
   "cell_type": "code",
   "execution_count": null,
   "metadata": {},
   "outputs": [],
   "source": [
    "print(top_angle_list,bottom_angle_list)"
   ]
  },
  {
   "cell_type": "code",
   "execution_count": null,
   "metadata": {},
   "outputs": [],
   "source": [
    "def calc_max_min_angles(angle_list):\n",
    "    max_angle=[0,0,0,0,0]\n",
    "    min_angle=[1000,1000,1000,1000,1000]\n",
    "    for angle in angle_list:\n",
    "        for i in range(5):\n",
    "            if angle[i]>max_angle[i]:\n",
    "                max_angle[i]=angle[i]\n",
    "            if angle[i]<min_angle[i]:\n",
    "                min_angle[i]=angle[i]\n",
    "    return max_angle,min_angle\n",
    "     "
   ]
  },
  {
   "cell_type": "code",
   "execution_count": null,
   "metadata": {},
   "outputs": [],
   "source": []
  },
  {
   "cell_type": "code",
   "execution_count": null,
   "metadata": {},
   "outputs": [],
   "source": [
    "max_top_angles,min_top_angles=calc_max_min_angles(top_angles)"
   ]
  },
  {
   "cell_type": "code",
   "execution_count": null,
   "metadata": {},
   "outputs": [],
   "source": [
    "max_bottom_angles,min_bottom_angles = calc_max_min_angles(bottom_angles)"
   ]
  },
  {
   "cell_type": "code",
   "execution_count": null,
   "metadata": {},
   "outputs": [],
   "source": [
    "print(max_bottom_angles,max_top_angles)\n",
    "    "
   ]
  },
  {
   "cell_type": "code",
   "execution_count": null,
   "metadata": {},
   "outputs": [],
   "source": [
    "print(min_bottom_angles,min_top_angles)"
   ]
  },
  {
   "cell_type": "code",
   "execution_count": null,
   "metadata": {},
   "outputs": [],
   "source": [
    "def pred(max_bottom_angles,max_top_angles,min_bottom_angles,min_top_angles,top_angles,bottom_angles):\n",
    "    score = []\n",
    "    for i in range(len(max_bottom_angles)):\n",
    "        mid = (min_top_angles[i]+max_top_angles[i])/2\n",
    "        score.append( 1-((mid-top_angles[i])**2)/((min_top_angles[i]-max_top_angles[i])**2))\n",
    "    score = np.array(score)\n",
    "    s1 = np.sum(score)/len(score)\n",
    "    score = []\n",
    "    for i in range(len(max_bottom_angles)):\n",
    "        mid = (min_bottom_angles[i]+max_bottom_angles[i])/2\n",
    "        score.append( 1-((mid-bottom_angles[i])**2)/((min_bottom_angles[i]-max_bottom_angles[i])**2))\n",
    "    score = np.array(score)\n",
    "    s2 = np.sum(score)/len(score)\n",
    "    s = (s1+s2)/2\n",
    "    if(s>0.5):\n",
    "        return \"thumbs up\",s\n",
    "    return \"idk\",s"
   ]
  },
  {
   "cell_type": "code",
   "execution_count": null,
   "metadata": {},
   "outputs": [],
   "source": [
    "test1 = [168.33527221839458, 109.61749407565415, 128.78987218954217, 155.06870223021772, 164.3271516176781]\n",
    "test2 = [160.2158443845158, 140.408322256868, 155.065872636256, 165.05621459895184, 175.2198450599878]\n",
    "pred(max_bottom_angles,max_top_angles,min_bottom_angles,min_top_angles,test1,test2)"
   ]
  },
  {
   "cell_type": "code",
   "execution_count": null,
   "metadata": {},
   "outputs": [],
   "source": [
    "cap = cv2.VideoCapture(0)\n",
    "_,frame = cap.read()\n",
    "h ,w , c = frame.shape\n",
    "with mp_hands.Hands(min_detection_confidence=0.8, min_tracking_confidence=0.5) as hands:\n",
    "    while cap.isOpened():\n",
    "        ret, frame = cap.read()\n",
    "        img = cv2.cvtColor(frame, cv2.COLOR_BGR2RGB)\n",
    "        img = cv2.flip(img, 1)\n",
    "        img.flags.writeable = False\n",
    "        res = hands.process(img)\n",
    "        img.flags.writeable = True\n",
    "        img = cv2.cvtColor(img, cv2.COLOR_RGB2BGR)\n",
    "\n",
    "        if res.multi_hand_landmarks:\n",
    "            for num , hand in enumerate(res.multi_hand_landmarks):\n",
    "                mp_drawing.draw_landmarks(img, hand, mp_hands.HAND_CONNECTIONS)\n",
    "                x_max = 0\n",
    "                y_max = 0\n",
    "                x_min = w\n",
    "                y_min = h\n",
    "                for lm in hand.landmark:\n",
    "                    x, y = int(lm.x * w), int(lm.y * h)\n",
    "                    if x > x_max:\n",
    "                        x_max = x\n",
    "                    if x < x_min:\n",
    "                        x_min = x\n",
    "                    if y > y_max:\n",
    "                        y_max = y\n",
    "                    if y < y_min:\n",
    "                        y_min = y\n",
    "\n",
    "                cv2.rectangle(img, (x_min, y_min), (x_max, y_max), (0, 255, 0), 2)\n",
    "                \n",
    "                \n",
    "                if get_label(num,hand,res):\n",
    "                    text, coords = get_label(num,hand,res)\n",
    "                    cv2.putText(img, text, coords, cv2.FONT_HERSHEY_SIMPLEX, 1, (121, 93, 60), 1, cv2.LINE_AA)\n",
    "\n",
    "                \n",
    "\n",
    "                img,top_angle_list = draw_finger_angles(img,res,bottom_joint_list,(0,0,0))\n",
    "                img,bottom_angle_list = draw_finger_angles(img,res,top_joint_list,(255,255,255))\n",
    "                text,score = pred(max_bottom_angles,max_top_angles,min_bottom_angles,min_top_angles,top_angle_list,bottom_angle_list)\n",
    "                cv2.putText(img, '{}{}'.format(text,round(score,2)), (x_max, y_min), cv2.FONT_HERSHEY_SIMPLEX, 1, (121, 93, 60), 1, cv2.LINE_AA)\n",
    "            \n",
    "        cv2.imshow(\"Hand Tracking\", img)\n",
    "        \n",
    "        if cv2.waitKey(10) & 0xFF == ord('q'):\n",
    "            break\n",
    "\n",
    "        \n",
    "cap.release()\n",
    "cv2.destroyAllWindows()"
   ]
  },
  {
   "cell_type": "code",
   "execution_count": null,
   "metadata": {},
   "outputs": [],
   "source": []
  },
  {
   "cell_type": "code",
   "execution_count": null,
   "metadata": {},
   "outputs": [],
   "source": []
  }
 ],
 "metadata": {
  "kernelspec": {
   "display_name": "Python 3",
   "language": "python",
   "name": "python3"
  },
  "language_info": {
   "codemirror_mode": {
    "name": "ipython",
    "version": 3
   },
   "file_extension": ".py",
   "mimetype": "text/x-python",
   "name": "python",
   "nbconvert_exporter": "python",
   "pygments_lexer": "ipython3",
   "version": "3.10.9"
  },
  "orig_nbformat": 4
 },
 "nbformat": 4,
 "nbformat_minor": 2
}
